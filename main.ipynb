{
 "cells": [
  {
   "cell_type": "code",
   "execution_count": 1,
   "id": "ff3b4109",
   "metadata": {},
   "outputs": [],
   "source": [
    "import pandas as pd, numpy as np"
   ]
  },
  {
   "cell_type": "code",
   "execution_count": 2,
   "id": "b50c8a03",
   "metadata": {},
   "outputs": [],
   "source": [
    "df = pd.read_excel('data/conference_board_data.xlsx', engine='openpyxl',header=None)"
   ]
  },
  {
   "cell_type": "code",
   "execution_count": 6,
   "id": "f75a6ebe",
   "metadata": {},
   "outputs": [],
   "source": [
    "# Declare parameters\n",
    "repeated_rows = []\n",
    "empty_rows = []\n",
    "\n",
    "''' \n",
    "Loop to identify which rows contain one value or blanks. \n",
    "@param empty_rows -> will contains the row index for those that have no value stored in the whole row\n",
    "@param repeated_rows -> will contains the row index for those that have one unique value stored in the whole row\n",
    "'''\n",
    "for i in range(df.shape[0]):\n",
    "    if len(df.iloc[i,1:].value_counts()) == 1:\n",
    "        if str(df.iloc[i,1:].unique().tolist()[0]) == 'nan':\n",
    "            empty_rows+=[i]\n",
    "        else:            \n",
    "            repeated_rows+=[i]\n",
    "\n",
    "# Drop all rows with 100% missing/repeated values\n",
    "df.drop(index=repeated_rows + empty_rows, inplace=True)\n",
    "\n",
    "df.reset_index(drop=True, inplace=True)"
   ]
  },
  {
   "cell_type": "code",
   "execution_count": 8,
   "id": "226b8c73",
   "metadata": {},
   "outputs": [
    {
     "name": "stdout",
     "output_type": "stream",
     "text": [
      "0\n"
     ]
    }
   ],
   "source": [
    "# Check to ensure to more duplications exists (from blank rows)\n",
    "print(df.duplicated().sum())\n",
    "\n",
    "'''\n",
    "Carry out numerous adjustments to the data set to ensure that it is converted into a readable and logical form\n",
    "Initially we combine all values from the first few rows into one row in oredr to create a columns header row as one\n",
    "Next we transpose/melt these columns and expand them onto every existing row to populate the dataset for each value.\n",
    "'''\n",
    "df_cols = df.loc[0:4].fillna('').apply('_-'.join).str.strip().tolist()\n",
    "df.columns = df_cols\n",
    "df_final = pd.melt(df.loc[5:], id_vars=['_-_-_-_-Date'])\n",
    "\n",
    "# Split the column derived into numerous columns making it easier to visualize per each country, type, category etc.. \n",
    "cols_explode = ['Indicator','Index','Country','Type','Source']\n",
    "df_final[cols_explode] = df_final['variable'].str.split('_-', expand=True)\n",
    "df_final.columns = ['Date','variable','value']+cols_explode"
   ]
  },
  {
   "cell_type": "code",
   "execution_count": 9,
   "id": "0f8a68a6",
   "metadata": {},
   "outputs": [],
   "source": [
    "# Filtering the countries necessary for this study\n",
    "df_final = df_final[df_final['Country'].isin(['United States', 'Brazil', 'China', 'Germany', 'India', 'Japan', 'Mexico', 'United Kingdom'])]\n",
    "\n",
    "df_rem_blank = df_final.groupby('variable').sum().reset_index()\n",
    "\n",
    "df_final = df_final[df_final['variable'].isin(df_rem_blank[df_rem_blank['value']>0]['variable'].tolist())]\n",
    "\n",
    "df_final.to_excel('data/conference_board_data_cleaned.xlsx', index=False)"
   ]
  },
  {
   "cell_type": "code",
   "execution_count": null,
   "id": "24395709",
   "metadata": {},
   "outputs": [],
   "source": []
  }
 ],
 "metadata": {
  "kernelspec": {
   "display_name": "my_env",
   "language": "python",
   "name": "my_env"
  },
  "language_info": {
   "codemirror_mode": {
    "name": "ipython",
    "version": 3
   },
   "file_extension": ".py",
   "mimetype": "text/x-python",
   "name": "python",
   "nbconvert_exporter": "python",
   "pygments_lexer": "ipython3",
   "version": "3.11.1"
  }
 },
 "nbformat": 4,
 "nbformat_minor": 5
}
